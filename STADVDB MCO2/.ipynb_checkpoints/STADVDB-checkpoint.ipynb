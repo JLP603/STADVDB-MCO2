{
 "cells": [
  {
   "cell_type": "markdown",
   "metadata": {},
   "source": [
    "# YELP DATASET DIMENSIONAL MODEL ETL PROCESSING\n",
    "\n",
    "## STADVDB S12\n",
    "- Cayton, Alenna\n",
    "- Gubat, Angeline\n",
    "- Pascual, Jeremy\n",
    "- Pua, Shaun   \n",
    "\n",
    "The students will perform a ETL processing, on the group's created star schema dimensional model based on the YELP dataset. "
   ]
  },
  {
   "cell_type": "markdown",
   "metadata": {},
   "source": [
    "## Data Description\n",
    "\n",
    "The dataset that was used was retrieved from **https://relational.fit.cvut.cz/**, an online repository of publicly available data sets. The students chose to use the dataset entitled **\"YelpDataset3\"** and chose **1 fact table** and **3 dimensional tables** to create their dimensional model making use of a **star schema**. The specifics of the table are as follows. The **fact table** is titled **Business** with 11 columns, full_address, active, city, review_count, business_name, neighborhoods, latitude, longitude, state, and stars. The 3 other dimension tables are titled **Business_hours** with the columns business_id, day_of_week, opening_time_hours, and closing_time_hours, **Business_Attributes** with the columns business_id, attribute_name, and attribute_value, and **Business_Categories** with the columns business_id and category. All tables have **business_id as their primary keys**.\n"
   ]
  },
  {
   "cell_type": "markdown",
   "metadata": {},
   "source": [
    "## Exploratory Data Analysis\n",
    "### Cleaning the dataset\n",
    "We first clean the dataset by reformating it, dealing with missing data, getting rid of columns that we will most likely not use, and removing duplicate data if applicable in order to extract useful information by using proper data manipulation functions and techniques\n",
    "### Importing libraries and the tables"
   ]
  },
  {
   "cell_type": "code",
   "execution_count": 2,
   "metadata": {},
   "outputs": [],
   "source": [
    "import numpy as np\n",
    "import pandas as pd\n",
    "import matplotlib.pyplot as plt\n",
    "# Please change the directory below to the location where you have stored this notebook\n",
    "Business_df = pd.read_csv('C:/Users/MyComputer/Downloads/STADVDB MCO2/yelp-business.csv')\n",
    "Business_hours_df = pd.read_csv('C:/Users/MyComputer/Downloads/STADVDB MCO2/yelp-business-attributes.csv')\n",
    "Business_attributes_df = pd.read_csv('C:/Users/MyComputer/Downloads/STADVDB MCO2/yelp-business-categories.csv')\n",
    "Business_categories_df = pd.read_csv('C:/Users/MyComputer/Downloads/STADVDB MCO2/yelp-business-hours.csv')"
   ]
  },
  {
   "cell_type": "markdown",
   "metadata": {},
   "source": [
    "After importing the libraries and the dataset, We will now remove data or columns that serve no real purpose to our case study. They are the following: \n",
    "\n",
    "*row number, ID, photo, flag, club logo, special, skill moves, body type, real face, jersey number, joined, LS, ST, RS, LW, LF, CF, RF, RW, LAM, CAM, RAM, LM, LCM, CM, RCM, RM, LWB, LDM, CDM, RDM, RWB, LB, LCB, CB, RCB, RB, loaned from, contract valid until, height, weight, and release clause*. \n",
    "\n",
    "Following this we will check to see if the values for certain columns are in the acceptable value range.\n",
    "### Dropping useless columns"
   ]
  },
  {
   "cell_type": "code",
   "execution_count": 52,
   "metadata": {},
   "outputs": [],
   "source": [
    "FIFA19_df.drop(FIFA19_df.columns[[0,1,4,6,10,13,17,19,20,22,23,24,25,26,27,28,29,30,31,32,33,34,35,36,37,38,39,40,41,42,43,44,45,46,47,48,49,50,51,52,53,88]], axis=1, inplace=True)\n",
    "#Please remove the \"#\" symbol from the line below to see what columns are left in the dataset\n",
    "#FIFA19_df.info()"
   ]
  },
  {
   "cell_type": "markdown",
   "metadata": {},
   "source": [
    "### Checking the range of values for variables on the scale of 5, with 1 being the lowest and 5 the highest"
   ]
  },
  {
   "cell_type": "code",
   "execution_count": 193,
   "metadata": {
    "scrolled": true
   },
   "outputs": [],
   "source": [
    "#FIFA19_df['International Reputation'].unique()"
   ]
  },
  {
   "cell_type": "code",
   "execution_count": 46,
   "metadata": {},
   "outputs": [],
   "source": [
    "#FIFA19_df['Weak Foot'].unique()"
   ]
  },
  {
   "cell_type": "markdown",
   "metadata": {},
   "source": [
    "We have discovered that all of the variables listed above have values within the range of 1 and 5 as well as some missing values.\n",
    "\n",
    "***If you wish to see how we did this please remove the \"#\" symbol in the lines above and then press shift followed by enter***"
   ]
  },
  {
   "cell_type": "markdown",
   "metadata": {},
   "source": [
    "### Checking the range of values for variables on the scale of 100, with 1 being the lowest and 100 the highest"
   ]
  },
  {
   "cell_type": "code",
   "execution_count": 191,
   "metadata": {},
   "outputs": [],
   "source": [
    "#FIFA19_df['Overall'].unique()"
   ]
  },
  {
   "cell_type": "code",
   "execution_count": 190,
   "metadata": {},
   "outputs": [],
   "source": [
    "#FIFA19_df['Potential'].unique()"
   ]
  },
  {
   "cell_type": "code",
   "execution_count": 189,
   "metadata": {},
   "outputs": [],
   "source": [
    "#FIFA19_df['Crossing'].unique()"
   ]
  },
  {
   "cell_type": "code",
   "execution_count": 188,
   "metadata": {},
   "outputs": [],
   "source": [
    "#FIFA19_df['Finishing'].unique()"
   ]
  },
  {
   "cell_type": "code",
   "execution_count": 187,
   "metadata": {},
   "outputs": [],
   "source": [
    "#FIFA19_df['HeadingAccuracy'].unique()"
   ]
  },
  {
   "cell_type": "code",
   "execution_count": 186,
   "metadata": {},
   "outputs": [],
   "source": [
    "#FIFA19_df['ShortPassing'].unique()"
   ]
  },
  {
   "cell_type": "code",
   "execution_count": 185,
   "metadata": {},
   "outputs": [],
   "source": [
    "#FIFA19_df['Volleys'].unique()"
   ]
  },
  {
   "cell_type": "code",
   "execution_count": 184,
   "metadata": {},
   "outputs": [],
   "source": [
    "#FIFA19_df['Dribbling'].unique()"
   ]
  },
  {
   "cell_type": "code",
   "execution_count": 183,
   "metadata": {},
   "outputs": [],
   "source": [
    "#FIFA19_df['Curve'].unique()"
   ]
  },
  {
   "cell_type": "code",
   "execution_count": 182,
   "metadata": {},
   "outputs": [],
   "source": [
    "#FIFA19_df['FKAccuracy'].unique()"
   ]
  },
  {
   "cell_type": "code",
   "execution_count": 181,
   "metadata": {},
   "outputs": [],
   "source": [
    "#FIFA19_df['LongPassing'].unique()"
   ]
  },
  {
   "cell_type": "code",
   "execution_count": 179,
   "metadata": {},
   "outputs": [],
   "source": [
    "#FIFA19_df['BallControl'].unique()"
   ]
  },
  {
   "cell_type": "code",
   "execution_count": 178,
   "metadata": {},
   "outputs": [],
   "source": [
    "#FIFA19_df['Acceleration'].unique()"
   ]
  },
  {
   "cell_type": "code",
   "execution_count": 177,
   "metadata": {},
   "outputs": [],
   "source": [
    "#FIFA19_df['SprintSpeed'].unique()"
   ]
  },
  {
   "cell_type": "code",
   "execution_count": 176,
   "metadata": {},
   "outputs": [],
   "source": [
    "#FIFA19_df['Agility'].unique()"
   ]
  },
  {
   "cell_type": "code",
   "execution_count": 175,
   "metadata": {},
   "outputs": [],
   "source": [
    "#FIFA19_df['Reactions'].unique()"
   ]
  },
  {
   "cell_type": "code",
   "execution_count": 174,
   "metadata": {},
   "outputs": [],
   "source": [
    "#FIFA19_df['Balance'].unique()"
   ]
  },
  {
   "cell_type": "code",
   "execution_count": 173,
   "metadata": {},
   "outputs": [],
   "source": [
    "#FIFA19_df['ShotPower'].unique()"
   ]
  },
  {
   "cell_type": "code",
   "execution_count": 172,
   "metadata": {},
   "outputs": [],
   "source": [
    "#FIFA19_df['Jumping'].unique()"
   ]
  },
  {
   "cell_type": "code",
   "execution_count": 171,
   "metadata": {},
   "outputs": [],
   "source": [
    "#FIFA19_df['Stamina'].unique()"
   ]
  },
  {
   "cell_type": "code",
   "execution_count": 170,
   "metadata": {},
   "outputs": [],
   "source": [
    "#FIFA19_df['Strength'].unique()"
   ]
  },
  {
   "cell_type": "code",
   "execution_count": 169,
   "metadata": {},
   "outputs": [],
   "source": [
    "#FIFA19_df['LongShots'].unique()"
   ]
  },
  {
   "cell_type": "code",
   "execution_count": 168,
   "metadata": {},
   "outputs": [],
   "source": [
    "#FIFA19_df['Aggression'].unique()"
   ]
  },
  {
   "cell_type": "code",
   "execution_count": 167,
   "metadata": {},
   "outputs": [],
   "source": [
    "#FIFA19_df['Interceptions'].unique()"
   ]
  },
  {
   "cell_type": "code",
   "execution_count": 166,
   "metadata": {},
   "outputs": [],
   "source": [
    "#FIFA19_df['Positioning'].unique()"
   ]
  },
  {
   "cell_type": "code",
   "execution_count": 165,
   "metadata": {},
   "outputs": [],
   "source": [
    "#FIFA19_df['Vision'].unique()"
   ]
  },
  {
   "cell_type": "code",
   "execution_count": 164,
   "metadata": {},
   "outputs": [],
   "source": [
    "#FIFA19_df['Penalties'].unique()"
   ]
  },
  {
   "cell_type": "code",
   "execution_count": 163,
   "metadata": {},
   "outputs": [],
   "source": [
    "#FIFA19_df['Composure'].unique()"
   ]
  },
  {
   "cell_type": "code",
   "execution_count": 162,
   "metadata": {},
   "outputs": [],
   "source": [
    "#FIFA19_df['Marking'].unique()"
   ]
  },
  {
   "cell_type": "code",
   "execution_count": 161,
   "metadata": {},
   "outputs": [],
   "source": [
    "#FIFA19_df['StandingTackle'].unique()"
   ]
  },
  {
   "cell_type": "code",
   "execution_count": 160,
   "metadata": {},
   "outputs": [],
   "source": [
    "#FIFA19_df['SlidingTackle'].unique()"
   ]
  },
  {
   "cell_type": "code",
   "execution_count": 159,
   "metadata": {},
   "outputs": [],
   "source": [
    "#FIFA19_df['GKDiving'].unique()"
   ]
  },
  {
   "cell_type": "code",
   "execution_count": 158,
   "metadata": {},
   "outputs": [],
   "source": [
    "#FIFA19_df['GKHandling'].unique()"
   ]
  },
  {
   "cell_type": "code",
   "execution_count": 157,
   "metadata": {},
   "outputs": [],
   "source": [
    "#FIFA19_df['GKKicking'].unique()"
   ]
  },
  {
   "cell_type": "code",
   "execution_count": 155,
   "metadata": {},
   "outputs": [],
   "source": [
    "#FIFA19_df['GKPositioning'].unique()"
   ]
  },
  {
   "cell_type": "code",
   "execution_count": 156,
   "metadata": {},
   "outputs": [],
   "source": [
    "#FIFA19_df['GKReflexes'].unique()"
   ]
  },
  {
   "cell_type": "markdown",
   "metadata": {},
   "source": [
    "We have discovered that all of the variables listed above have values within the range of 1 and 100 as well as some missing values.\n",
    "\n",
    "***If you wish to see how we did this please remove the \"#\" symbol in the lines above and then press shift followed by enter***"
   ]
  },
  {
   "cell_type": "markdown",
   "metadata": {},
   "source": [
    "### Checking the range of values for variables with two or more predefined classifications"
   ]
  },
  {
   "cell_type": "code",
   "execution_count": 194,
   "metadata": {},
   "outputs": [],
   "source": [
    "#FIFA19_df['Preferred Foot'].unique()"
   ]
  },
  {
   "cell_type": "code",
   "execution_count": 195,
   "metadata": {
    "scrolled": true
   },
   "outputs": [],
   "source": [
    "#FIFA19_df['Work Rate'].unique()"
   ]
  },
  {
   "cell_type": "markdown",
   "metadata": {},
   "source": [
    "We have discovered that all of the variables listed above have values within the accepted predefined list of classifications as well as some missing values.\n",
    "\n",
    "***If you wish to see how we did this please remove the \"#\" symbol in the lines above and then press shift followed by enter***"
   ]
  },
  {
   "cell_type": "markdown",
   "metadata": {},
   "source": [
    "### Resolving missing values\n",
    "Firstly, the students searched throughout the modified dataset for what columns had missing values and listed them down"
   ]
  },
  {
   "cell_type": "code",
   "execution_count": 15,
   "metadata": {},
   "outputs": [],
   "source": [
    "nan_variables = FIFA19_df.columns[FIFA19_df.isnull().any()].tolist()\n",
    "#Please remove the \"#\" symbol below to see the names of all the columns with null values\n",
    "#print(nan_variables)"
   ]
  },
  {
   "cell_type": "markdown",
   "metadata": {},
   "source": [
    "Secondly, after finding what columns had *NaN* or *null* or *missing values* they listed down how many there were for each column and compared it to the number of entries there are in the dataset, which is found in the **FIFA19_df.info()** cell"
   ]
  },
  {
   "cell_type": "code",
   "execution_count": 4,
   "metadata": {
    "scrolled": true
   },
   "outputs": [
    {
     "name": "stdout",
     "output_type": "stream",
     "text": [
      "Club 1.323666721590597\n",
      "Preferred Foot 0.26363486571099026\n",
      "International Reputation 0.26363486571099026\n",
      "Weak Foot 0.26363486571099026\n",
      "Work Rate 0.26363486571099026\n",
      "Position 0.32954358213873786\n",
      "Crossing 0.26363486571099026\n",
      "Finishing 0.26363486571099026\n",
      "HeadingAccuracy 0.26363486571099026\n",
      "ShortPassing 0.26363486571099026\n",
      "Volleys 0.26363486571099026\n",
      "Dribbling 0.26363486571099026\n",
      "Curve 0.26363486571099026\n",
      "FKAccuracy 0.26363486571099026\n",
      "LongPassing 0.26363486571099026\n",
      "BallControl 0.26363486571099026\n",
      "Acceleration 0.26363486571099026\n",
      "SprintSpeed 0.26363486571099026\n",
      "Agility 0.26363486571099026\n",
      "Reactions 0.26363486571099026\n",
      "Balance 0.26363486571099026\n",
      "ShotPower 0.26363486571099026\n",
      "Jumping 0.26363486571099026\n",
      "Stamina 0.26363486571099026\n",
      "Strength 0.26363486571099026\n",
      "LongShots 0.26363486571099026\n",
      "Aggression 0.26363486571099026\n",
      "Interceptions 0.26363486571099026\n",
      "Positioning 0.26363486571099026\n",
      "Vision 0.26363486571099026\n",
      "Penalties 0.26363486571099026\n",
      "Composure 0.26363486571099026\n",
      "Marking 0.26363486571099026\n",
      "StandingTackle 0.26363486571099026\n",
      "SlidingTackle 0.26363486571099026\n",
      "GKDiving 0.26363486571099026\n",
      "GKHandling 0.26363486571099026\n",
      "GKKicking 0.26363486571099026\n",
      "GKPositioning 0.26363486571099026\n",
      "GKReflexes 0.26363486571099026\n"
     ]
    }
   ],
   "source": [
    "for variable in nan_variables:\n",
    "    print(variable, (sum(FIFA19_df[variable].isnull())/18207)*100)"
   ]
  },
  {
   "cell_type": "markdown",
   "metadata": {},
   "source": [
    "The percentage of missing value entries for all columns are under the acceptable threshold of **5%** and therefore can be safely ommitted based on this article by  **Statistics Solutions**.\n",
    "\n",
    "(https://www.statisticssolutions.com/missing-values-in-data/#:~:text=Handling%20Missing%20Values&text=Suppose%20the%20number%20of%20cases,the%20researcher%20can%20drop%20them.)"
   ]
  },
  {
   "cell_type": "code",
   "execution_count": 53,
   "metadata": {},
   "outputs": [],
   "source": [
    "FIFA19_df=FIFA19_df.dropna()\n",
    "#Please remove the \"#\" symbol from the line below to see what columns in the modified dataset have missing values\n",
    "#FIFA19_df.isnull().any()"
   ]
  },
  {
   "cell_type": "markdown",
   "metadata": {},
   "source": [
    "### Analysis \n",
    "The students have created these exploratory questions in order to better understand the characteristics of the overall data set\n",
    "1. **Which level of international reputation has the most number of players?**\n",
    "2. **What positions have the most number of players?**\n",
    "3. **What overall ratings are commonly seen in the FIFA19 game?**"
   ]
  },
  {
   "cell_type": "code",
   "execution_count": 6,
   "metadata": {
    "scrolled": true
   },
   "outputs": [
    {
     "data": {
      "text/plain": [
       "Text(0.5, 1.0, 'Bar plot of the amount of players in various levels of international fame')"
      ]
     },
     "execution_count": 6,
     "metadata": {},
     "output_type": "execute_result"
    },
    {
     "data": {
      "image/png": "[encoded data removed]",
      "text/plain": [
       "<Figure size 432x288 with 1 Axes>"
      ]
     },
     "metadata": {
      "needs_background": "light"
     },
     "output_type": "display_data"
    }
   ],
   "source": [
    "FIFA19_df['International Reputation'].value_counts().plot.bar()\n",
    "plt.xlabel('InternationalReputation')\n",
    "plt.ylabel('Number of Players')\n",
    "plt.title('Bar plot of the amount of players in various levels of international fame')"
   ]
  },
  {
   "cell_type": "markdown",
   "metadata": {},
   "source": [
    "The students used a bar plot to visualize the results. The graph shows that the international fame rating of **1**, which is the lowest on the scale, has close to **17,000** players. On the other hand, there is a drastic drop in the amount of players that get past the rating of 1 with roughly only 1000 players having a rating of 2 and the other ratings, even when added together, do not even make it to 500 players based on the chart."
   ]
  },
  {
   "cell_type": "code",
   "execution_count": 71,
   "metadata": {},
   "outputs": [
    {
     "data": {
      "text/plain": [
       "Text(0.5, 1.0, 'Bar plot of the amount of players in each position')"
      ]
     },
     "execution_count": 71,
     "metadata": {},
     "output_type": "execute_result"
    },
    {
     "data": {
      "image/png": "[encoded data removed]",
      "text/plain": [
       "<Figure size 432x288 with 1 Axes>"
      ]
     },
     "metadata": {
      "needs_background": "light"
     },
     "output_type": "display_data"
    }
   ],
   "source": [
    "FIFA19_df['Position'].value_counts().plot.bar()\n",
    "plt.xlabel('Player Position')\n",
    "plt.ylabel('Number of Players')\n",
    "plt.title('Bar plot of the amount of players in each position')"
   ]
  },
  {
   "cell_type": "markdown",
   "metadata": {},
   "source": [
    "The students used a bar chart to represent the data as there are numerous positions that needs to be ditinctly represented and compared to one another. The results are arranged in order of the position with the most amount of players to the least, from the left to the right. The results show that the **Strikers (ST)** have the most amount of players at well **over the 2,000** player mark with Goal Keepers (GK) coming at second, also over the 2,000 mark. The position with the **least** amount of players are the **Left Forward (LF)** and **Right Forward (RF)**"
   ]
  },
  {
   "cell_type": "code",
   "execution_count": 72,
   "metadata": {},
   "outputs": [
    {
     "data": {
      "text/plain": [
       "Text(0.5, 1.0, 'Histogram of the frequency of players per overall rating')"
      ]
     },
     "execution_count": 72,
     "metadata": {},
     "output_type": "execute_result"
    },
    {
     "data": {
      "image/png": "[encoded data removed]",
      "text/plain": [
       "<Figure size 432x288 with 1 Axes>"
      ]
     },
     "metadata": {
      "needs_background": "light"
     },
     "output_type": "display_data"
    }
   ],
   "source": [
    "FIFA19_df['Overall'].hist(bins=30)\n",
    "plt.xlabel('Overall Rating')\n",
    "plt.ylabel('Number of players')\n",
    "plt.title('Histogram of the frequency of players per overall rating')"
   ]
  },
  {
   "cell_type": "markdown",
   "metadata": {},
   "source": [
    "The students decided on using a histogram to visualize the results to the third question because they only need to know the frequency or distribution of the number of players and what their general scores are. Results show that overall rating range with the most players is between **60 to 70**, specifically at the values around **64** and **67**."
   ]
  },
  {
   "cell_type": "code",
   "execution_count": 73,
   "metadata": {
    "scrolled": true
   },
   "outputs": [
    {
     "data": {
      "text/plain": [
       "Text(0.5, 1.0, 'Histogram of the distribution of a players age ')"
      ]
     },
     "execution_count": 73,
     "metadata": {},
     "output_type": "execute_result"
    },
    {
     "data": {
      "image/png": "[encoded data removed]",
      "text/plain": [
       "<Figure size 432x288 with 1 Axes>"
      ]
     },
     "metadata": {
      "needs_background": "light"
     },
     "output_type": "display_data"
    }
   ],
   "source": [
    "FIFA19_df['Age'].hist(bins=30)\n",
    "plt.xlabel('Age')\n",
    "plt.ylabel('Number of players')\n",
    "plt.title('Histogram of the distribution of a players age ')"
   ]
  },
  {
   "cell_type": "markdown",
   "metadata": {},
   "source": [
    "The students decided on using a histogram to visualize the results because they only need to know the age range of the players. Results show that overall, most players belong to the age range of somewhere between **20 to 26**."
   ]
  },
  {
   "cell_type": "code",
   "execution_count": 31,
   "metadata": {},
   "outputs": [
    {
     "data": {
      "text/plain": [
       "Text(0.5, 1.0, 'Work rate classification of each players where the categories are formatted as attk work rate/ def work rate ')"
      ]
     },
     "execution_count": 31,
     "metadata": {},
     "output_type": "execute_result"
    },
    {
     "data": {
      "image/png": "[encoded data removed]",
      "text/plain": [
       "<Figure size 432x288 with 1 Axes>"
      ]
     },
     "metadata": {
      "needs_background": "light"
     },
     "output_type": "display_data"
    }
   ],
   "source": [
    "FIFA19_df['Work Rate'].value_counts().plot.bar()\n",
    "plt.xlabel('Player Position')\n",
    "plt.ylabel('Number of Players')\n",
    "plt.title('Work rate classification of each players where the categories are formatted as attk work rate/ def work rate ')"
   ]
  },
  {
   "cell_type": "markdown",
   "metadata": {},
   "source": [
    "The students used a bar chart to represent the data as there are numerous levels of work that needs to be ditinctly represented and compared to one another. The results are arranged based on frequency. The categories are formatted to show their work rate on improving *attack related skills* / and *defense related skills*. The results show that most players, at **over 8,000** players, work at a **medium level in both attack and defense**. "
   ]
  },
  {
   "cell_type": "code",
   "execution_count": 74,
   "metadata": {},
   "outputs": [
    {
     "data": {
      "text/plain": [
       "Text(0.5, 1.0, 'Classification of how many players prefer their left or right foot ')"
      ]
     },
     "execution_count": 74,
     "metadata": {},
     "output_type": "execute_result"
    },
    {
     "data": {
      "image/png": "[encoded data removed]",
      "text/plain": [
       "<Figure size 432x288 with 1 Axes>"
      ]
     },
     "metadata": {
      "needs_background": "light"
     },
     "output_type": "display_data"
    }
   ],
   "source": [
    "FIFA19_df['Preferred Foot'].value_counts().plot.bar()\n",
    "plt.xlabel('Preferred foot')\n",
    "plt.ylabel('Number of Players')\n",
    "plt.title('Classification of how many players prefer their left or right foot ')"
   ]
  },
  {
   "cell_type": "markdown",
   "metadata": {},
   "source": [
    "The students used a bar chart to represent the data as there are numerous positions that needs to be ditinctly represented and compared to one another. The results show that more players prefer their **right foot** over left with over **12,000** players while only roughly **4,000** players prefer their **left** foot"
   ]
  },
  {
   "cell_type": "code",
   "execution_count": 75,
   "metadata": {
    "scrolled": true
   },
   "outputs": [
    {
     "data": {
      "text/plain": [
       "Text(0.5, 1.0, 'Bar plot of the amount of players at each weak foot rating level')"
      ]
     },
     "execution_count": 75,
     "metadata": {},
     "output_type": "execute_result"
    },
    {
     "data": {
      "image/png": "[encoded data removed]",
      "text/plain": [
       "<Figure size 432x288 with 1 Axes>"
      ]
     },
     "metadata": {
      "needs_background": "light"
     },
     "output_type": "display_data"
    }
   ],
   "source": [
    "FIFA19_df['Weak Foot'].value_counts().plot.bar()\n",
    "plt.xlabel('Weak Foot Rating')\n",
    "plt.ylabel('Number of Players')\n",
    "plt.title('Bar plot of the amount of players at each weak foot rating level')"
   ]
  },
  {
   "cell_type": "markdown",
   "metadata": {},
   "source": [
    "Accoding to **fifplay** (https://www.fifplay.com/encyclopedia/weak-foot/), Weak foot is the player's foot (left or right) that is weaker than their preferred foot. The weak foot rating is  rated between 1 to 5 which specifies the shot power and ball control for the other foot of that player than his preferred foot's. The students decided to use a bar chart to compare the data as we need to know the exact weak foot ratings being compared. Results show that most players have a weak foot rating of **3.0** at over **10,000** players"
   ]
  },
  {
   "cell_type": "markdown",
   "metadata": {},
   "source": [
    "## Research Questions\n",
    "The students have formulated the following research questions for this dataset:\n",
    "1. **Do Goal Keepers get the least pay among all the positions?**\n",
    "2. **In terms of Player Ratings/stats, do Midfielders usually have more similar stats to that of Strikers or Defenders?**\n",
    "\n",
    "These research questions are of interest to the students for the following reasons. It is important to know if Goal Keepers have the least pay among all the other players with different positions because compared to other positions on paper, it seems they do the least even though they are the most important defenders on the team and serving as the last lines of defense and responsible for stopping shots from entering the goal and preventing the enemies from gaining a point."
   ]
  },
  {
   "cell_type": "markdown",
   "metadata": {},
   "source": [
    "## Data Modelling\n",
    "\n",
    "### Research Question No. 1\n",
    "### Data Cleaning (Again) \n",
    "In order to solve the research question we must clean the dataset again to better format the needed columns to perform data manipulation techniques. For this research question, we must reformat the **Value** and **Wages** columns to have all entries have the same unit of measurement instead of being in units of *millions (M)* or *Kilo (K)*."
   ]
  },
  {
   "cell_type": "code",
   "execution_count": 54,
   "metadata": {},
   "outputs": [],
   "source": [
    "def currencyConverter(val):\n",
    "    if val[-1] == 'M':\n",
    "        val = val[1:-1]\n",
    "        val = float(val) * 1000000\n",
    "        return val\n",
    "        \n",
    "    elif val[-1] == 'K':\n",
    "        val = val[1:-1]\n",
    "        val = float(val) * 1000\n",
    "        return val\n",
    "    \n",
    "    else:\n",
    "        return 0\n",
    "FIFA19_df['Value in Pounds'] = FIFA19_df['Value'].apply(currencyConverter)\n",
    "FIFA19_df['Wage in Pounds'] = FIFA19_df['Wage'].apply(currencyConverter)\n",
    "FIFA19_df.drop(columns=['Value', 'Wage'], inplace=True)\n",
    "#Please remove the \"#\" symbol below to see the changes reflected in the wages and value columns\n",
    "#FIFA19_df.head()"
   ]
  },
  {
   "cell_type": "markdown",
   "metadata": {},
   "source": [
    "After converting the \"Wage\" and \"Value\" columns we will now simplify the different types of positions of the players into just 4 positions, which are **Striker (S)**, **Midfielder (M)**, **Defender (D)**, and **Goal Keepers (GK)**."
   ]
  },
  {
   "cell_type": "code",
   "execution_count": 55,
   "metadata": {},
   "outputs": [],
   "source": [
    "def position_simplifier(val):\n",
    "    \n",
    "    if val == 'RF' or val == 'ST' or val == 'LF' or val == 'RS' or val == 'LS' or val == 'CF':\n",
    "        val = 'S'\n",
    "        return val\n",
    "        \n",
    "    elif val == 'LW' or val == 'RCM' or val == 'LCM' or val == 'LDM' or val == 'CAM' or val == 'CDM' or val == 'RM' \\\n",
    "         or val == 'LAM' or val == 'LM' or val == 'RDM' or val == 'RW' or val == 'CM' or val == 'RAM':\n",
    "        val = 'M'\n",
    "        return val\n",
    "\n",
    "    \n",
    "    elif val == 'RCB' or val == 'CB' or val == 'LCB' or val == 'LB' or val == 'RB' or val == 'RWB' or val == 'LWB':\n",
    "        val = 'D'\n",
    "        return val\n",
    "    \n",
    "    else:\n",
    "        return val\n",
    "FIFA19_df['Position'] = FIFA19_df['Position'].apply(position_simplifier)\n",
    "#Please remove the \"#\" symbol in the line below to see the amount of players per new position\n",
    "#FIFA19_df['Position'].value_counts()"
   ]
  },
  {
   "cell_type": "markdown",
   "metadata": {},
   "source": [
    "Below we have performed exploratory analysis on the data to show the players grouped by their simplified positions and their corresponding wages in Pounds"
   ]
  },
  {
   "cell_type": "code",
   "execution_count": 9,
   "metadata": {},
   "outputs": [
    {
     "data": {
      "image/png": "[encoded data removed]",
      "text/plain": [
       "<Figure size 432x288 with 4 Axes>"
      ]
     },
     "metadata": {
      "needs_background": "light"
     },
     "output_type": "display_data"
    }
   ],
   "source": [
    "FIFA19_df.groupby(\"Position\").boxplot(column='Wage in Pounds')\n",
    "plt.show()"
   ]
  },
  {
   "cell_type": "code",
   "execution_count": 10,
   "metadata": {},
   "outputs": [
    {
     "data": {
      "text/html": [
       "<div>\n",
       "<style scoped>\n",
       "    .dataframe tbody tr th:only-of-type {\n",
       "        vertical-align: middle;\n",
       "    }\n",
       "\n",
       "    .dataframe tbody tr th {\n",
       "        vertical-align: top;\n",
       "    }\n",
       "\n",
       "    .dataframe thead tr th {\n",
       "        text-align: left;\n",
       "    }\n",
       "\n",
       "    .dataframe thead tr:last-of-type th {\n",
       "        text-align: right;\n",
       "    }\n",
       "</style>\n",
       "<table border=\"1\" class=\"dataframe\">\n",
       "  <thead>\n",
       "    <tr>\n",
       "      <th></th>\n",
       "      <th colspan=\"4\" halign=\"left\">Wage in Pounds</th>\n",
       "    </tr>\n",
       "    <tr>\n",
       "      <th></th>\n",
       "      <th>mean</th>\n",
       "      <th>median</th>\n",
       "      <th>std</th>\n",
       "      <th>len</th>\n",
       "    </tr>\n",
       "    <tr>\n",
       "      <th>Position</th>\n",
       "      <th></th>\n",
       "      <th></th>\n",
       "      <th></th>\n",
       "      <th></th>\n",
       "    </tr>\n",
       "  </thead>\n",
       "  <tbody>\n",
       "    <tr>\n",
       "      <th>D</th>\n",
       "      <td>9280.574295</td>\n",
       "      <td>3000.0</td>\n",
       "      <td>19076.602585</td>\n",
       "      <td>5781.0</td>\n",
       "    </tr>\n",
       "    <tr>\n",
       "      <th>GK</th>\n",
       "      <td>6916.666667</td>\n",
       "      <td>2000.0</td>\n",
       "      <td>16834.470011</td>\n",
       "      <td>1992.0</td>\n",
       "    </tr>\n",
       "    <tr>\n",
       "      <th>M</th>\n",
       "      <td>10653.605225</td>\n",
       "      <td>3000.0</td>\n",
       "      <td>23416.381918</td>\n",
       "      <td>7503.0</td>\n",
       "    </tr>\n",
       "    <tr>\n",
       "      <th>S</th>\n",
       "      <td>11254.352763</td>\n",
       "      <td>4000.0</td>\n",
       "      <td>27342.603682</td>\n",
       "      <td>2642.0</td>\n",
       "    </tr>\n",
       "  </tbody>\n",
       "</table>\n",
       "</div>"
      ],
      "text/plain": [
       "         Wage in Pounds                              \n",
       "                   mean  median           std     len\n",
       "Position                                             \n",
       "D           9280.574295  3000.0  19076.602585  5781.0\n",
       "GK          6916.666667  2000.0  16834.470011  1992.0\n",
       "M          10653.605225  3000.0  23416.381918  7503.0\n",
       "S          11254.352763  4000.0  27342.603682  2642.0"
      ]
     },
     "execution_count": 10,
     "metadata": {},
     "output_type": "execute_result"
    }
   ],
   "source": [
    "FIFA19_df.groupby(\"Position\").agg({\"Wage in Pounds\": [\"mean\", \"median\", \"std\", len]})"
   ]
  },
  {
   "cell_type": "markdown",
   "metadata": {},
   "source": [
    "Based on the information gathered **Goal Keepers (GK)** are indeed paid the least out of all the other positions at an average of **6,916 Pounds**, while **Strikers (S)** are paid the highest on average at **11,254 Pounds**. "
   ]
  },
  {
   "cell_type": "markdown",
   "metadata": {},
   "source": [
    "### Research Question No. 2\n",
    "In order to solve this research question we must import a python file and import the dataset again and re-clean it"
   ]
  },
  {
   "cell_type": "code",
   "execution_count": 67,
   "metadata": {},
   "outputs": [],
   "source": [
    "from kmeans import KMeans\n",
    "FIFA19_df2 = pd.read_csv('data.csv')\n",
    "FIFA19_df2.drop(FIFA19_df2.columns[[0,1,4,6,10,13,17,19,20,22,23,24,25,26,27,28,29,30,31,32,33,34,35,36,37,38,39,40,41,42,43,44,45,46,47,48,49,50,51,52,53,88]], axis=1, inplace=True)\n",
    "#Please remove the \"#\" symbol from the line below to see what columns are left in the dataset\n",
    "#FIFA19_df2.info()"
   ]
  },
  {
   "cell_type": "code",
   "execution_count": 68,
   "metadata": {},
   "outputs": [],
   "source": [
    "def position_simplifier(val):\n",
    "    \n",
    "    if val == 'RF' or val == 'ST' or val == 'LF' or val == 'RS' or val == 'LS' or val == 'CF':\n",
    "        val = 'S'\n",
    "        return val\n",
    "        \n",
    "    elif val == 'LW' or val == 'RCM' or val == 'LCM' or val == 'LDM' or val == 'CAM' or val == 'CDM' or val == 'RM' \\\n",
    "         or val == 'LAM' or val == 'LM' or val == 'RDM' or val == 'RW' or val == 'CM' or val == 'RAM':\n",
    "        val = 'M'\n",
    "        return val\n",
    "\n",
    "    \n",
    "    elif val == 'RCB' or val == 'CB' or val == 'LCB' or val == 'LB' or val == 'RB' or val == 'RWB' or val == 'LWB':\n",
    "        val = 'D'\n",
    "        return val\n",
    "    \n",
    "    else:\n",
    "        return val\n",
    "FIFA19_df2['Position'] = FIFA19_df2['Position'].apply(position_simplifier)\n",
    "#Please remove the \"#\" symbol in the line below to see the amount of players per new position\n",
    "#FIFA19_df2['Position'].value_counts()"
   ]
  },
  {
   "cell_type": "code",
   "execution_count": 69,
   "metadata": {},
   "outputs": [],
   "source": [
    "kmeans = KMeans(4, 13, 47, 18207, FIFA19_df2)"
   ]
  },
  {
   "cell_type": "code",
   "execution_count": 73,
   "metadata": {
    "scrolled": true
   },
   "outputs": [
    {
     "data": {
      "text/html": [
       "<div>\n",
       "<style scoped>\n",
       "    .dataframe tbody tr th:only-of-type {\n",
       "        vertical-align: middle;\n",
       "    }\n",
       "\n",
       "    .dataframe tbody tr th {\n",
       "        vertical-align: top;\n",
       "    }\n",
       "\n",
       "    .dataframe thead th {\n",
       "        text-align: right;\n",
       "    }\n",
       "</style>\n",
       "<table border=\"1\" class=\"dataframe\">\n",
       "  <thead>\n",
       "    <tr style=\"text-align: right;\">\n",
       "      <th></th>\n",
       "      <th>Age</th>\n",
       "      <th>Overall</th>\n",
       "      <th>Potential</th>\n",
       "      <th>International Reputation</th>\n",
       "      <th>Weak Foot</th>\n",
       "      <th>Crossing</th>\n",
       "      <th>Finishing</th>\n",
       "      <th>HeadingAccuracy</th>\n",
       "      <th>ShortPassing</th>\n",
       "      <th>Volleys</th>\n",
       "      <th>...</th>\n",
       "      <th>Penalties</th>\n",
       "      <th>Composure</th>\n",
       "      <th>Marking</th>\n",
       "      <th>StandingTackle</th>\n",
       "      <th>SlidingTackle</th>\n",
       "      <th>GKDiving</th>\n",
       "      <th>GKHandling</th>\n",
       "      <th>GKKicking</th>\n",
       "      <th>GKPositioning</th>\n",
       "      <th>GKReflexes</th>\n",
       "    </tr>\n",
       "  </thead>\n",
       "  <tbody>\n",
       "    <tr>\n",
       "      <th>0</th>\n",
       "      <td>25.117845</td>\n",
       "      <td>66.757457</td>\n",
       "      <td>71.645767</td>\n",
       "      <td>1.118523</td>\n",
       "      <td>3.013622</td>\n",
       "      <td>54.869001</td>\n",
       "      <td>50.184850</td>\n",
       "      <td>57.176448</td>\n",
       "      <td>63.230363</td>\n",
       "      <td>47.178421</td>\n",
       "      <td>...</td>\n",
       "      <td>52.401846</td>\n",
       "      <td>60.766073</td>\n",
       "      <td>51.582050</td>\n",
       "      <td>52.171038</td>\n",
       "      <td>49.870783</td>\n",
       "      <td>10.498727</td>\n",
       "      <td>10.566136</td>\n",
       "      <td>10.565691</td>\n",
       "      <td>10.537365</td>\n",
       "      <td>10.514895</td>\n",
       "    </tr>\n",
       "    <tr>\n",
       "      <th>1</th>\n",
       "      <td>27.078571</td>\n",
       "      <td>66.711310</td>\n",
       "      <td>70.700000</td>\n",
       "      <td>1.115476</td>\n",
       "      <td>2.513095</td>\n",
       "      <td>14.582143</td>\n",
       "      <td>12.754762</td>\n",
       "      <td>14.685119</td>\n",
       "      <td>27.942262</td>\n",
       "      <td>13.213095</td>\n",
       "      <td>...</td>\n",
       "      <td>20.949405</td>\n",
       "      <td>47.030357</td>\n",
       "      <td>15.763690</td>\n",
       "      <td>14.380952</td>\n",
       "      <td>14.339881</td>\n",
       "      <td>67.310714</td>\n",
       "      <td>64.614286</td>\n",
       "      <td>63.120833</td>\n",
       "      <td>65.330357</td>\n",
       "      <td>68.232143</td>\n",
       "    </tr>\n",
       "    <tr>\n",
       "      <th>2</th>\n",
       "      <td>20.937581</td>\n",
       "      <td>54.576073</td>\n",
       "      <td>65.698309</td>\n",
       "      <td>1.000000</td>\n",
       "      <td>2.540962</td>\n",
       "      <td>21.629389</td>\n",
       "      <td>22.531860</td>\n",
       "      <td>34.810143</td>\n",
       "      <td>33.029909</td>\n",
       "      <td>20.564369</td>\n",
       "      <td>...</td>\n",
       "      <td>30.124837</td>\n",
       "      <td>40.764629</td>\n",
       "      <td>28.283485</td>\n",
       "      <td>29.100130</td>\n",
       "      <td>28.094928</td>\n",
       "      <td>30.841352</td>\n",
       "      <td>30.050715</td>\n",
       "      <td>29.555267</td>\n",
       "      <td>29.010403</td>\n",
       "      <td>30.733420</td>\n",
       "    </tr>\n",
       "    <tr>\n",
       "      <th>3</th>\n",
       "      <td>NaN</td>\n",
       "      <td>NaN</td>\n",
       "      <td>NaN</td>\n",
       "      <td>NaN</td>\n",
       "      <td>NaN</td>\n",
       "      <td>66.000000</td>\n",
       "      <td>33.000000</td>\n",
       "      <td>65.000000</td>\n",
       "      <td>62.000000</td>\n",
       "      <td>43.000000</td>\n",
       "      <td>...</td>\n",
       "      <td>38.000000</td>\n",
       "      <td>55.000000</td>\n",
       "      <td>66.000000</td>\n",
       "      <td>57.000000</td>\n",
       "      <td>60.000000</td>\n",
       "      <td>16.000000</td>\n",
       "      <td>7.000000</td>\n",
       "      <td>15.000000</td>\n",
       "      <td>7.000000</td>\n",
       "      <td>13.000000</td>\n",
       "    </tr>\n",
       "    <tr>\n",
       "      <th>4</th>\n",
       "      <td>NaN</td>\n",
       "      <td>NaN</td>\n",
       "      <td>NaN</td>\n",
       "      <td>NaN</td>\n",
       "      <td>NaN</td>\n",
       "      <td>10.000000</td>\n",
       "      <td>6.000000</td>\n",
       "      <td>10.000000</td>\n",
       "      <td>25.000000</td>\n",
       "      <td>6.000000</td>\n",
       "      <td>...</td>\n",
       "      <td>16.000000</td>\n",
       "      <td>23.000000</td>\n",
       "      <td>6.000000</td>\n",
       "      <td>10.000000</td>\n",
       "      <td>11.000000</td>\n",
       "      <td>52.000000</td>\n",
       "      <td>52.000000</td>\n",
       "      <td>52.000000</td>\n",
       "      <td>40.000000</td>\n",
       "      <td>44.000000</td>\n",
       "    </tr>\n",
       "    <tr>\n",
       "      <th>5</th>\n",
       "      <td>NaN</td>\n",
       "      <td>NaN</td>\n",
       "      <td>NaN</td>\n",
       "      <td>NaN</td>\n",
       "      <td>NaN</td>\n",
       "      <td>10.000000</td>\n",
       "      <td>6.000000</td>\n",
       "      <td>10.000000</td>\n",
       "      <td>25.000000</td>\n",
       "      <td>6.000000</td>\n",
       "      <td>...</td>\n",
       "      <td>16.000000</td>\n",
       "      <td>23.000000</td>\n",
       "      <td>6.000000</td>\n",
       "      <td>10.000000</td>\n",
       "      <td>11.000000</td>\n",
       "      <td>52.000000</td>\n",
       "      <td>52.000000</td>\n",
       "      <td>52.000000</td>\n",
       "      <td>40.000000</td>\n",
       "      <td>44.000000</td>\n",
       "    </tr>\n",
       "    <tr>\n",
       "      <th>6</th>\n",
       "      <td>NaN</td>\n",
       "      <td>NaN</td>\n",
       "      <td>NaN</td>\n",
       "      <td>NaN</td>\n",
       "      <td>NaN</td>\n",
       "      <td>10.000000</td>\n",
       "      <td>6.000000</td>\n",
       "      <td>10.000000</td>\n",
       "      <td>25.000000</td>\n",
       "      <td>6.000000</td>\n",
       "      <td>...</td>\n",
       "      <td>16.000000</td>\n",
       "      <td>23.000000</td>\n",
       "      <td>6.000000</td>\n",
       "      <td>10.000000</td>\n",
       "      <td>11.000000</td>\n",
       "      <td>52.000000</td>\n",
       "      <td>52.000000</td>\n",
       "      <td>52.000000</td>\n",
       "      <td>40.000000</td>\n",
       "      <td>44.000000</td>\n",
       "    </tr>\n",
       "  </tbody>\n",
       "</table>\n",
       "<p>7 rows × 39 columns</p>\n",
       "</div>"
      ],
      "text/plain": [
       "         Age    Overall  Potential  International Reputation  Weak Foot  \\\n",
       "0  25.117845  66.757457  71.645767                  1.118523   3.013622   \n",
       "1  27.078571  66.711310  70.700000                  1.115476   2.513095   \n",
       "2  20.937581  54.576073  65.698309                  1.000000   2.540962   \n",
       "3        NaN        NaN        NaN                       NaN        NaN   \n",
       "4        NaN        NaN        NaN                       NaN        NaN   \n",
       "5        NaN        NaN        NaN                       NaN        NaN   \n",
       "6        NaN        NaN        NaN                       NaN        NaN   \n",
       "\n",
       "    Crossing  Finishing  HeadingAccuracy  ShortPassing    Volleys  ...  \\\n",
       "0  54.869001  50.184850        57.176448     63.230363  47.178421  ...   \n",
       "1  14.582143  12.754762        14.685119     27.942262  13.213095  ...   \n",
       "2  21.629389  22.531860        34.810143     33.029909  20.564369  ...   \n",
       "3  66.000000  33.000000        65.000000     62.000000  43.000000  ...   \n",
       "4  10.000000   6.000000        10.000000     25.000000   6.000000  ...   \n",
       "5  10.000000   6.000000        10.000000     25.000000   6.000000  ...   \n",
       "6  10.000000   6.000000        10.000000     25.000000   6.000000  ...   \n",
       "\n",
       "   Penalties  Composure    Marking  StandingTackle  SlidingTackle   GKDiving  \\\n",
       "0  52.401846  60.766073  51.582050       52.171038      49.870783  10.498727   \n",
       "1  20.949405  47.030357  15.763690       14.380952      14.339881  67.310714   \n",
       "2  30.124837  40.764629  28.283485       29.100130      28.094928  30.841352   \n",
       "3  38.000000  55.000000  66.000000       57.000000      60.000000  16.000000   \n",
       "4  16.000000  23.000000   6.000000       10.000000      11.000000  52.000000   \n",
       "5  16.000000  23.000000   6.000000       10.000000      11.000000  52.000000   \n",
       "6  16.000000  23.000000   6.000000       10.000000      11.000000  52.000000   \n",
       "\n",
       "   GKHandling  GKKicking  GKPositioning  GKReflexes  \n",
       "0   10.566136  10.565691      10.537365   10.514895  \n",
       "1   64.614286  63.120833      65.330357   68.232143  \n",
       "2   30.050715  29.555267      29.010403   30.733420  \n",
       "3    7.000000  15.000000       7.000000   13.000000  \n",
       "4   52.000000  52.000000      40.000000   44.000000  \n",
       "5   52.000000  52.000000      40.000000   44.000000  \n",
       "6   52.000000  52.000000      40.000000   44.000000  \n",
       "\n",
       "[7 rows x 39 columns]"
      ]
     },
     "execution_count": 73,
     "metadata": {},
     "output_type": "execute_result"
    }
   ],
   "source": [
    "kmeans.initialize_centroids(FIFA19_df2)"
   ]
  },
  {
   "cell_type": "code",
   "execution_count": 74,
   "metadata": {},
   "outputs": [
    {
     "name": "stdout",
     "output_type": "stream",
     "text": [
      "Iteration 1\n",
      "Iteration 2\n",
      "Iteration 3\n",
      "Iteration 4\n",
      "Iteration 5\n",
      "Iteration 6\n",
      "Iteration 7\n",
      "Iteration 8\n",
      "Iteration 9\n",
      "Iteration 10\n",
      "Iteration 11\n",
      "Iteration 12\n",
      "Iteration 13\n",
      "Iteration 14\n",
      "Iteration 15\n",
      "Iteration 16\n",
      "Iteration 17\n",
      "Iteration 18\n",
      "Iteration 19\n",
      "Iteration 20\n",
      "Iteration 21\n",
      "Iteration 22\n",
      "Iteration 23\n",
      "Iteration 24\n",
      "Iteration 25\n",
      "Iteration 26\n",
      "Iteration 27\n",
      "Iteration 28\n",
      "Done clustering!\n"
     ]
    }
   ],
   "source": [
    "groups = kmeans.train(FIFA19_df2,18206)"
   ]
  },
  {
   "cell_type": "code",
   "execution_count": 75,
   "metadata": {},
   "outputs": [
    {
     "name": "stdout",
     "output_type": "stream",
     "text": [
      "Number of data points in each cluster:\n",
      "Cluster 0:\n",
      "Class Midfield:\t 3266\n",
      "Class Defender:\t 14\n",
      "Class Striker:\t 2562\n",
      "Class Goal Keeper:\t 0\n",
      "Cluster 1:\n",
      "Class Midfield:\t 0\n",
      "Class Defender:\t 0\n",
      "Class Striker:\t 0\n",
      "Class Goal Keeper:\t 2025\n",
      "Cluster 2:\n",
      "Class Midfield:\t 990\n",
      "Class Defender:\t 4008\n",
      "Class Striker:\t 8\n",
      "Class Goal Keeper:\t 0\n",
      "Cluster 3:\n",
      "Class Midfield:\t 3333\n",
      "Class Defender:\t 1844\n",
      "Class Striker:\t 97\n",
      "Class Goal Keeper:\t 0\n"
     ]
    }
   ],
   "source": [
    "cluster_0 = FIFA19_df2.loc[groups == 0]\n",
    "cluster_1 = FIFA19_df2.loc[groups == 1]\n",
    "cluster_2 = FIFA19_df2.loc[groups == 2]\n",
    "cluster_3 = FIFA19_df2.loc[groups == 3]\n",
    "\n",
    "print('Number of data points in each cluster:')\n",
    "print('Cluster 0:')\n",
    "print('Class Midfield:\\t', cluster_0.loc[cluster_0['Position'] == 'M'].shape[0])\n",
    "print('Class Defender:\\t', cluster_0.loc[cluster_0['Position'] == 'D'].shape[0])\n",
    "print('Class Striker:\\t', cluster_0.loc[cluster_0['Position'] == 'S'].shape[0])\n",
    "print('Class Goal Keeper:\\t', cluster_0.loc[cluster_0['Position'] == 'GK'].shape[0])\n",
    "print('Cluster 1:')\n",
    "print('Class Midfield:\\t', cluster_1.loc[cluster_1['Position'] == 'M'].shape[0])\n",
    "print('Class Defender:\\t', cluster_1.loc[cluster_1['Position'] == 'D'].shape[0])\n",
    "print('Class Striker:\\t', cluster_1.loc[cluster_1['Position'] == 'S'].shape[0])\n",
    "print('Class Goal Keeper:\\t', cluster_1.loc[cluster_1['Position'] == 'GK'].shape[0])\n",
    "print('Cluster 2:')\n",
    "print('Class Midfield:\\t', cluster_2.loc[cluster_2['Position'] == 'M'].shape[0])\n",
    "print('Class Defender:\\t', cluster_2.loc[cluster_2['Position'] == 'D'].shape[0])\n",
    "print('Class Striker:\\t', cluster_2.loc[cluster_2['Position'] == 'S'].shape[0])\n",
    "print('Class Goal Keeper:\\t', cluster_2.loc[cluster_2['Position'] == 'GK'].shape[0])\n",
    "print('Cluster 3:')\n",
    "print('Class Midfield:\\t', cluster_3.loc[cluster_3['Position'] == 'M'].shape[0])\n",
    "print('Class Defender:\\t', cluster_3.loc[cluster_3['Position'] == 'D'].shape[0])\n",
    "print('Class Striker:\\t', cluster_3.loc[cluster_3['Position'] == 'S'].shape[0])\n",
    "print('Class Goal Keeper:\\t', cluster_3.loc[cluster_3['Position'] == 'GK'].shape[0])\n",
    "\n"
   ]
  },
  {
   "cell_type": "markdown",
   "metadata": {},
   "source": [
    "The most obviously distinguished position is Goalkeeper, given that they are the position with the most unique stats that are exclusive to the Goalkeeper position, this can be seen in Cluster 1. Cluster 0 was able to find the most data points for Strikers when comparing to the other clusters, so Cluster 0 can be identified as the Striker Cluster. Cluster 2 can easily be classified as the Defenders cluster with 4008 data points under the Defender class. Lastly, Cluster 3 came in with the most data points under the Midfield class, even more than Cluster 0, therefore this is the Cluster for Midfielders. Given this information we can say that midfielders are more similar to strikers in terms of the ability and stats of these players."
   ]
  },
  {
   "cell_type": "markdown",
   "metadata": {},
   "source": [
    "## Insights and Conclusions"
   ]
  },
  {
   "cell_type": "markdown",
   "metadata": {},
   "source": [
    "For the first research question, the students were able to gather information for whether or not Goalkeepers are the most underpaid players on the football pitch. Based on said gathered information the students were able to confirm this statement calculating the average pay for Goalkeepers being 6,916 Pounds. That is quite a low pay considering it is the largest jump to the next lowest average of Defenders with 9,280 Pounds, this is followed by Midfielders at 10653 Pounds, then Strikers on top of the list with 11,254 pounds on average. It could be seen that the jump between the average pays between that of Defenders to Midfielders is not nearly as big, in fact it's even slightly bigger than the average pay gap between Defenders and Strikers.\n",
    "\n",
    "That being said it seems as we move up on the football pitch the players are more valuable, obviously on paper each player's individual values is based on their skills, but based on this data it could be said that the offence side of the pitch is what teams may feel like investing on more rather than the defence side solely based on average salaries. As for Goalkeepers, the large gap of payments could come from many reasons, they are most definitely a commonly underrated role, they can be the biggest hero that prevents a key goal or seen as the villain that lost the team a game for not being able to do their main task, not concede goals. But besides being stuck by the goal, perhaps it is also because they are not nearly as marketable as say, on average, the most payed footballers, the strikers, the goal makers, the poster-boys of the team that scores, that sells out arenas because of their marketability and fame. Multiple factors can come into play, whether it be from a business standpoint of which athletes will fill up more arenas, or from a performance standpoint of which roles does a team deem more difficult or what not."
   ]
  },
  {
   "cell_type": "markdown",
   "metadata": {},
   "source": [
    "Moving on to the second question, judging by the clustering results, the 4 positions were able to be distinguished quite effectively. Seeing how the goalkeepers were all distinguished solely into Cluster 1 and nothing else is a good sign as they are the most unique in terms of stats, so we can ignore this Cluster for now as goalkeepers are not of our interest in answering the question on midfielders. After the previously stated observations on the Clusters, we can see that even though cluster 0 may seem as though it was designated for Midfielders, it was actually designated for stikers but also got many midfielders in the cluster, this is the first observation that leads the researchers/students to believe that midfielders are more similar to strikers in terms of player stats. Secondly in cluster 2, the cluster that obtained many data points under defenders, we can see significantly less midfielders that were similar in stats when comparing it to that of the cluster filled with strikers. Lastly in Cluster 3, the cluster with the most data points under the midfielder class, we can see more stikers getting included over defenders.\n",
    "\n",
    "These results make sense as even when watching games, even though Midfielders can be divided into many different types, unless they are a Center Defensive Midfielder (CDM), often times midfielders are in charge of passing the ball upfield and helping set up a good offensive play as well as scoring quite often as well. So given the results obtained, it definitely makes sense that midfielders often come with the abilities and stats similar to that of a striker."
   ]
  },
  {
   "cell_type": "markdown",
   "metadata": {},
   "source": [
    "df.to_csv(r'Downloads\\STADVDB.csv')"
   ]
  },
  {
   "cell_type": "code",
   "execution_count": null,
   "metadata": {},
   "outputs": [],
   "source": []
  }
 ],
 "metadata": {
  "kernelspec": {
   "display_name": "Python 3",
   "language": "python",
   "name": "python3"
  },
  "language_info": {
   "codemirror_mode": {
    "name": "ipython",
    "version": 3
   },
   "file_extension": ".py",
   "mimetype": "text/x-python",
   "name": "python",
   "nbconvert_exporter": "python",
   "pygments_lexer": "ipython3",
   "version": "3.7.6"
  }
 },
 "nbformat": 4,
 "nbformat_minor": 4
}
